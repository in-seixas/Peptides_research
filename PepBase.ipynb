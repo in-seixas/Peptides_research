{
  "nbformat": 4,
  "nbformat_minor": 0,
  "metadata": {
    "colab": {
      "name": "PepBase",
      "provenance": [],
      "authorship_tag": "ABX9TyMrVlgNCaoM1woomEnlJ/dz",
      "include_colab_link": true
    },
    "kernelspec": {
      "name": "python3",
      "display_name": "Python 3"
    }
  },
  "cells": [
    {
      "cell_type": "markdown",
      "metadata": {
        "id": "view-in-github",
        "colab_type": "text"
      },
      "source": [
        "<a href=\"https://colab.research.google.com/github/in-seixas/in-seixas_data_science-/blob/master/PepBase.ipynb\" target=\"_parent\"><img src=\"https://colab.research.google.com/assets/colab-badge.svg\" alt=\"Open In Colab\"/></a>"
      ]
    },
    {
      "cell_type": "code",
      "metadata": {
        "id": "UG66bkD5NaqE"
      },
      "source": [
        "from google.colab import drive\n"
      ],
      "execution_count": 1,
      "outputs": []
    },
    {
      "cell_type": "code",
      "metadata": {
        "id": "a7RuQ_pa42Fc",
        "outputId": "a30afe3b-f27a-4abc-9407-710ccddc593f",
        "colab": {
          "base_uri": "https://localhost:8080/",
          "height": 34
        }
      },
      "source": [
        "drive.mount('/content/gdrive')"
      ],
      "execution_count": 2,
      "outputs": [
        {
          "output_type": "stream",
          "text": [
            "Mounted at /content/gdrive\n"
          ],
          "name": "stdout"
        }
      ]
    },
    {
      "cell_type": "code",
      "metadata": {
        "id": "wWBtGyUV5Deg",
        "outputId": "8acddf44-feb6-4ccb-a300-960bbd9f1ff5",
        "colab": {
          "base_uri": "https://localhost:8080/",
          "height": 72
        }
      },
      "source": [
        "import os\n",
        "import matplotlib.pyplot as plt\n",
        "import pandas as pd\n",
        "import seaborn as sns\n",
        "import numpy as np"
      ],
      "execution_count": 4,
      "outputs": [
        {
          "output_type": "stream",
          "text": [
            "/usr/local/lib/python3.6/dist-packages/statsmodels/tools/_testing.py:19: FutureWarning: pandas.util.testing is deprecated. Use the functions in the public API at pandas.testing instead.\n",
            "  import pandas.util.testing as tm\n"
          ],
          "name": "stderr"
        }
      ]
    },
    {
      "cell_type": "code",
      "metadata": {
        "id": "FDWRFBhj5VTc"
      },
      "source": [
        "os.chdir('/content/gdrive/My Drive')"
      ],
      "execution_count": 5,
      "outputs": []
    },
    {
      "cell_type": "code",
      "metadata": {
        "id": "Rfy5Zq-L5cs8",
        "outputId": "fc1a089b-13f3-483d-836d-a8402734f903",
        "colab": {
          "base_uri": "https://localhost:8080/",
          "height": 212
        }
      },
      "source": [
        "os.listdir()"
      ],
      "execution_count": 6,
      "outputs": [
        {
          "output_type": "execute_result",
          "data": {
            "text/plain": [
              "['master.csv',\n",
              " 'DistribuicaoCloroquinaOseltamivir.xlsx',\n",
              " 'Colab Notebooks',\n",
              " 'modelo_de_relatorio.pdf',\n",
              " '__MACOSX',\n",
              " 'relatorios',\n",
              " 'Modulo_3.notebooks',\n",
              " 'medicamento.txt',\n",
              " 'Lista de exercícios 7 - Variáveis - Operadores.pdf',\n",
              " 'controle_da_empresa.xlsx',\n",
              " 'Pepbase.csv']"
            ]
          },
          "metadata": {
            "tags": []
          },
          "execution_count": 6
        }
      ]
    },
    {
      "cell_type": "code",
      "metadata": {
        "id": "C9AhdfC65elZ",
        "outputId": "96dbc8c0-c940-45f9-8c3d-a5ec79710a1d",
        "colab": {
          "base_uri": "https://localhost:8080/",
          "height": 72
        }
      },
      "source": [
        "pep = pd.read_csv('/content/gdrive/My Drive/Pepbase.csv', None)"
      ],
      "execution_count": 7,
      "outputs": [
        {
          "output_type": "stream",
          "text": [
            "/usr/local/lib/python3.6/dist-packages/ipykernel_launcher.py:1: ParserWarning: Falling back to the 'python' engine because the 'c' engine does not support sep=None with delim_whitespace=False; you can avoid this warning by specifying engine='python'.\n",
            "  \"\"\"Entry point for launching an IPython kernel.\n"
          ],
          "name": "stderr"
        }
      ]
    },
    {
      "cell_type": "code",
      "metadata": {
        "id": "_ynuQrys5n1m",
        "outputId": "51425940-09f9-4559-a983-5b926400794a",
        "colab": {
          "base_uri": "https://localhost:8080/",
          "height": 297
        }
      },
      "source": [
        "pep.head()"
      ],
      "execution_count": 8,
      "outputs": [
        {
          "output_type": "execute_result",
          "data": {
            "text/html": [
              "<div>\n",
              "<style scoped>\n",
              "    .dataframe tbody tr th:only-of-type {\n",
              "        vertical-align: middle;\n",
              "    }\n",
              "\n",
              "    .dataframe tbody tr th {\n",
              "        vertical-align: top;\n",
              "    }\n",
              "\n",
              "    .dataframe thead th {\n",
              "        text-align: right;\n",
              "    }\n",
              "</style>\n",
              "<table border=\"1\" class=\"dataframe\">\n",
              "  <thead>\n",
              "    <tr style=\"text-align: right;\">\n",
              "      <th></th>\n",
              "      <th>Unnamed: 0</th>\n",
              "      <th>affinity_measure</th>\n",
              "      <th>affinity_value</th>\n",
              "      <th>ligand_chain</th>\n",
              "      <th>ligand_id</th>\n",
              "      <th>ligand_resid</th>\n",
              "      <th>ligand_smiles</th>\n",
              "      <th>pdb_id</th>\n",
              "      <th>type</th>\n",
              "      <th>apo95_pdb_id</th>\n",
              "    </tr>\n",
              "  </thead>\n",
              "  <tbody>\n",
              "    <tr>\n",
              "      <th>0</th>\n",
              "      <td>0</td>\n",
              "      <td>Ki</td>\n",
              "      <td>4560.0</td>\n",
              "      <td>C</td>\n",
              "      <td>GLY TYR GLU ASN PRO THR TYR LYS PHE PHE</td>\n",
              "      <td>3</td>\n",
              "      <td>O=C(NC(C(=O)NC(C(=O)NC(C(=O)NC(C=O)Cc1ccccc1)C...</td>\n",
              "      <td>1AQC</td>\n",
              "      <td>ligand</td>\n",
              "      <td>NaN</td>\n",
              "    </tr>\n",
              "    <tr>\n",
              "      <th>1</th>\n",
              "      <td>1</td>\n",
              "      <td>Kd</td>\n",
              "      <td>90000.0</td>\n",
              "      <td>P</td>\n",
              "      <td>PRO PRO PRO PRO PRO PRO PRO PRO PRO PRO</td>\n",
              "      <td>1</td>\n",
              "      <td>O=C([O-])C1N(C(=O)C2N(C(=O)C3N(C(=O)C4N(C(=O)C...</td>\n",
              "      <td>1AWI</td>\n",
              "      <td>ligand</td>\n",
              "      <td>NaN</td>\n",
              "    </tr>\n",
              "    <tr>\n",
              "      <th>2</th>\n",
              "      <td>2</td>\n",
              "      <td>Kd</td>\n",
              "      <td>90000.0</td>\n",
              "      <td>P</td>\n",
              "      <td>PRO PRO PRO PRO PRO PRO PRO PRO PRO PRO</td>\n",
              "      <td>1</td>\n",
              "      <td>O=C([O-])C1N(C(=O)C2N(C(=O)C3N(C(=O)C4N(C(=O)C...</td>\n",
              "      <td>1AWI</td>\n",
              "      <td>ligand</td>\n",
              "      <td>4X25</td>\n",
              "    </tr>\n",
              "    <tr>\n",
              "      <th>3</th>\n",
              "      <td>3</td>\n",
              "      <td>Kd</td>\n",
              "      <td>1900.0</td>\n",
              "      <td>B</td>\n",
              "      <td>PRO PRO PRO ALA LEU PRO PRO LYS LYS ARG</td>\n",
              "      <td>1</td>\n",
              "      <td>O=C(NC(CCCC[N+H3])[C-H2])C(NC(=O)C1N(C(=O)C2N(...</td>\n",
              "      <td>1CKA</td>\n",
              "      <td>ligand</td>\n",
              "      <td>NaN</td>\n",
              "    </tr>\n",
              "    <tr>\n",
              "      <th>4</th>\n",
              "      <td>4</td>\n",
              "      <td>Kd</td>\n",
              "      <td>25.0</td>\n",
              "      <td>P</td>\n",
              "      <td>SER HIS PHE ASN GLU TYR GLU</td>\n",
              "      <td>1</td>\n",
              "      <td>O=C([O-])C(NC(=O)C(NC(=O)C(NC(=O)C(NC(=O)C(NC(...</td>\n",
              "      <td>1E4W</td>\n",
              "      <td>ligand</td>\n",
              "      <td>NaN</td>\n",
              "    </tr>\n",
              "  </tbody>\n",
              "</table>\n",
              "</div>"
            ],
            "text/plain": [
              "   Unnamed: 0 affinity_measure  affinity_value  ... pdb_id    type  apo95_pdb_id\n",
              "0           0               Ki          4560.0  ...   1AQC  ligand           NaN\n",
              "1           1               Kd         90000.0  ...   1AWI  ligand           NaN\n",
              "2           2               Kd         90000.0  ...   1AWI  ligand          4X25\n",
              "3           3               Kd          1900.0  ...   1CKA  ligand           NaN\n",
              "4           4               Kd            25.0  ...   1E4W  ligand           NaN\n",
              "\n",
              "[5 rows x 10 columns]"
            ]
          },
          "metadata": {
            "tags": []
          },
          "execution_count": 8
        }
      ]
    },
    {
      "cell_type": "code",
      "metadata": {
        "id": "PDIG7OgxADfe",
        "outputId": "0af29eee-d763-4680-f25c-4aaa1b1c015a",
        "colab": {
          "base_uri": "https://localhost:8080/",
          "height": 318
        }
      },
      "source": [
        "pep.info()"
      ],
      "execution_count": 9,
      "outputs": [
        {
          "output_type": "stream",
          "text": [
            "<class 'pandas.core.frame.DataFrame'>\n",
            "RangeIndex: 189 entries, 0 to 188\n",
            "Data columns (total 10 columns):\n",
            " #   Column            Non-Null Count  Dtype  \n",
            "---  ------            --------------  -----  \n",
            " 0   Unnamed: 0        189 non-null    int64  \n",
            " 1   affinity_measure  189 non-null    object \n",
            " 2   affinity_value    189 non-null    float64\n",
            " 3   ligand_chain      189 non-null    object \n",
            " 4   ligand_id         189 non-null    object \n",
            " 5   ligand_resid      189 non-null    int64  \n",
            " 6   ligand_smiles     180 non-null    object \n",
            " 7   pdb_id            189 non-null    object \n",
            " 8   type              189 non-null    object \n",
            " 9   apo95_pdb_id      66 non-null     object \n",
            "dtypes: float64(1), int64(2), object(7)\n",
            "memory usage: 14.9+ KB\n"
          ],
          "name": "stdout"
        }
      ]
    },
    {
      "cell_type": "code",
      "metadata": {
        "id": "Bb34vAiF6zgk"
      },
      "source": [
        "afinidade = pep['affinity_measure'].value_counts()"
      ],
      "execution_count": 10,
      "outputs": []
    },
    {
      "cell_type": "code",
      "metadata": {
        "id": "gv7yQihV8hon",
        "outputId": "e86b2af7-8983-4cfa-8e1c-57bcb1811f4f",
        "colab": {
          "base_uri": "https://localhost:8080/",
          "height": 275
        }
      },
      "source": [
        "colors_bar = ['k', 'c', 'g']\n",
        "plt.figure(figsize=(8,4))\n",
        "afinidade.plot(kind='bar', color = colors_bar);\n",
        "\n"
      ],
      "execution_count": null,
      "outputs": [
        {
          "output_type": "display_data",
          "data": {
            "image/png": "[encoded data removed]",
            "text/plain": [
              "<Figure size 576x288 with 1 Axes>"
            ]
          },
          "metadata": {
            "tags": [],
            "needs_background": "light"
          }
        }
      ]
    },
    {
      "cell_type": "code",
      "metadata": {
        "id": "JD-pmQGFIOjl"
      },
      "source": [
        "afinidade = dict(pep['affinity_measure'].value_counts())"
      ],
      "execution_count": null,
      "outputs": []
    },
    {
      "cell_type": "code",
      "metadata": {
        "id": "fuExA330Fs3T"
      },
      "source": [
        "!pip install pywaffle\n",
        "\n",
        "\n"
      ],
      "execution_count": null,
      "outputs": []
    },
    {
      "cell_type": "code",
      "metadata": {
        "id": "XKYEK8A2HkxN",
        "outputId": "89c3f883-fe40-438a-e677-89ea8d99a8c9",
        "colab": {
          "base_uri": "https://localhost:8080/",
          "height": 242
        }
      },
      "source": [
        "from pywaffle import Waffle\n",
        "\n",
        "\n",
        "\n",
        "fig = plt.figure(figsize=(10,6),\n",
        "                FigureClass=Waffle,\n",
        "                rows=5,\n",
        "                columns=15,\n",
        "                icons='bolt',\n",
        "                icon_size=30,\n",
        "                values=afinidade, \n",
        "                legend={'loc': 'upper left',\n",
        "                        'bbox_to_anchor': (1.0, 1)}\n",
        "               )\n",
        "\n",
        "\n",
        "\n",
        "plt.show();"
      ],
      "execution_count": null,
      "outputs": [
        {
          "output_type": "display_data",
          "data": {
            "image/png": "[encoded data removed]",
            "text/plain": [
              "<Waffle size 720x432 with 1 Axes>"
            ]
          },
          "metadata": {
            "tags": [],
            "needs_background": "light"
          }
        }
      ]
    },
    {
      "cell_type": "code",
      "metadata": {
        "id": "OwfZxkKniAQP",
        "outputId": "e8d21b04-f9b2-44ba-95f1-ad47d4a6c51c",
        "colab": {
          "base_uri": "https://localhost:8080/",
          "height": 483
        }
      },
      "source": [
        "\n",
        "base = (pep.groupby('affinity_value')['affinity_measure'].sum())\n",
        "plt.figure(figsize=(12,8))\n",
        "plt.hist(base,color='k', bins = 13);"
      ],
      "execution_count": 50,
      "outputs": [
        {
          "output_type": "display_data",
          "data": {
            "image/png": "[encoded data removed]",
            "text/plain": [
              "<Figure size 864x576 with 1 Axes>"
            ]
          },
          "metadata": {
            "tags": [],
            "needs_background": "light"
          }
        }
      ]
    },
    {
      "cell_type": "code",
      "metadata": {
        "id": "HjOs-X9YqqEn"
      },
      "source": [
        "\n",
        "!wget -c https://repo.continuum.io/miniconda/Miniconda3-py37_4.8.3-Linux-x86_64.sh\n",
        "!chmod +x Miniconda3-py37_4.8.3-Linux-x86_64.sh\n",
        "!time bash ./Miniconda3-py37_4.8.3-Linux-x86_64.sh -b -f -p /usr/local\n",
        "!time conda install -q -y -c conda-forge rdkit"
      ],
      "execution_count": null,
      "outputs": []
    },
    {
      "cell_type": "code",
      "metadata": {
        "id": "jkHYHpt3tIlU"
      },
      "source": [
        "import sys\n",
        "sys.path.append('/usr/local/lib/python3.7/site-packages/')"
      ],
      "execution_count": 73,
      "outputs": []
    },
    {
      "cell_type": "code",
      "metadata": {
        "id": "JKAna435tqBO"
      },
      "source": [
        "from rdkit import Chem\n",
        "from rdkit.Chem import Draw\n",
        "from rdkit.Chem.Draw import IPythonConsole\n",
        "from rdkit.Chem import Descriptors\n",
        "from rdkit.Chem import AllChem\n",
        "from rdkit import DataStructs\n",
        "import numpy as np"
      ],
      "execution_count": 85,
      "outputs": []
    },
    {
      "cell_type": "code",
      "metadata": {
        "id": "Q0hB-sRvyfjs",
        "outputId": "5b0fede1-56dc-4adc-a1a3-fc5da0bb80b2",
        "colab": {
          "base_uri": "https://localhost:8080/",
          "height": 35
        }
      },
      "source": [
        "smile = pep['ligand_smiles'][0].upper()\n",
        "smile"
      ],
      "execution_count": 105,
      "outputs": [
        {
          "output_type": "execute_result",
          "data": {
            "application/vnd.google.colaboratory.intrinsic+json": {
              "type": "string"
            },
            "text/plain": [
              "'O=C(NC(C(=O)NC(C(=O)NC(C(=O)NC(C=O)CC1CCCCC1)CC1CCCCC1)CCCC[N+H3])CC1CCC(O)CC1)C(NC(=O)C1N(C(=O)C(NC(=O)C(NC(=O)C(NC(=O)C[N+H3])CC2CCC(O)CC2)CCC(=O)[O-])CC(=O)N)CCC1)C(O)C'"
            ]
          },
          "metadata": {
            "tags": []
          },
          "execution_count": 105
        }
      ]
    },
    {
      "cell_type": "code",
      "metadata": {
        "id": "Q7GEaWr3tscN",
        "outputId": "a84b8d49-2aa0-46fc-b940-96a2a52c2dd2",
        "colab": {
          "base_uri": "https://localhost:8080/",
          "height": 72
        }
      },
      "source": [
        "# O código smile da base de dados não está funcionando, apresenta esse erro abaixo\n",
        "\n",
        "mol = Chem.MolFromSmiles(smile)"
      ],
      "execution_count": 117,
      "outputs": [
        {
          "output_type": "stream",
          "text": [
            "RDKit ERROR: [03:46:41] SMILES Parse Error: syntax error while parsing: O=C(NC(C(=O)NC(C(=O)NC(C(=O)NC(C=O)CC1CCCCC1)CC1CCCCC1)CCCC[N+H3])CC1CCC(O)CC1)C(NC(=O)C1N(C(=O)C(NC(=O)C(NC(=O)C(NC(=O)C[N+H3])CC2CCC(O)CC2)CCC(=O)[O-])CC(=O)N)CCC1)C(O)C\n",
            "RDKit ERROR: [03:46:41] SMILES Parse Error: Failed parsing SMILES 'O=C(NC(C(=O)NC(C(=O)NC(C(=O)NC(C=O)CC1CCCCC1)CC1CCCCC1)CCCC[N+H3])CC1CCC(O)CC1)C(NC(=O)C1N(C(=O)C(NC(=O)C(NC(=O)C(NC(=O)C[N+H3])CC2CCC(O)CC2)CCC(=O)[O-])CC(=O)N)CCC1)C(O)C' for input: 'O=C(NC(C(=O)NC(C(=O)NC(C(=O)NC(C=O)CC1CCCCC1)CC1CCCCC1)CCCC[N+H3])CC1CCC(O)CC1)C(NC(=O)C1N(C(=O)C(NC(=O)C(NC(=O)C(NC(=O)C[N+H3])CC2CCC(O)CC2)CCC(=O)[O-])CC(=O)N)CCC1)C(O)C'\n"
          ],
          "name": "stderr"
        }
      ]
    },
    {
      "cell_type": "code",
      "metadata": {
        "id": "Qabg5Iq5zXEb",
        "outputId": "fdd188ff-3b68-4c39-9a8f-156eacd46135",
        "colab": {
          "base_uri": "https://localhost:8080/",
          "height": 166
        }
      },
      "source": [
        "#Estrutura encontrada no Pubchem, não perence a base de dados\n",
        "\n",
        "mol = Chem.MolFromSmiles('CC(C)C(C(=O)NC(C)C(=O)NC(CC(=O)O)C=O)NC(=O)C(CC1=CC=C(C=C1)O)NC(=O)C')\n",
        "mol\n",
        "\n",
        "\n"
      ],
      "execution_count": 113,
      "outputs": [
        {
          "output_type": "execute_result",
          "data": {
            "image/png": "[encoded data removed]",
            "text/plain": [
              "<rdkit.Chem.rdchem.Mol at 0x7f0f1ff608f0>"
            ]
          },
          "metadata": {
            "tags": []
          },
          "execution_count": 113
        }
      ]
    },
    {
      "cell_type": "code",
      "metadata": {
        "id": "4clihvw-wrhk",
        "outputId": "9e8d45c8-cf7f-4a99-d114-1f9b0070904e",
        "colab": {
          "base_uri": "https://localhost:8080/",
          "height": 34
        }
      },
      "source": [
        "mw = Descriptors.MolWt(mol)\n",
        "mw"
      ],
      "execution_count": 115,
      "outputs": [
        {
          "output_type": "execute_result",
          "data": {
            "text/plain": [
              "492.5290000000002"
            ]
          },
          "metadata": {
            "tags": []
          },
          "execution_count": 115
        }
      ]
    },
    {
      "cell_type": "code",
      "metadata": {
        "id": "G2CRONnWz0eD"
      },
      "source": [
        ""
      ],
      "execution_count": null,
      "outputs": []
    }
  ]
}