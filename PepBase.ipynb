{
  "nbformat": 4,
  "nbformat_minor": 0,
  "metadata": {
    "colab": {
      "name": "PepBase",
      "provenance": [],
      "authorship_tag": "ABX9TyMCcB55Ky16kA2237dIlu83",
      "include_colab_link": true
    },
    "kernelspec": {
      "name": "python3",
      "display_name": "Python 3"
    }
  },
  "cells": [
    {
      "cell_type": "markdown",
      "metadata": {
        "id": "view-in-github",
        "colab_type": "text"
      },
      "source": [
        "<a href=\"https://colab.research.google.com/github/in-seixas/in-seixas_data_science-/blob/master/PepBase.ipynb\" target=\"_parent\"><img src=\"https://colab.research.google.com/assets/colab-badge.svg\" alt=\"Open In Colab\"/></a>"
      ]
    },
    {
      "cell_type": "code",
      "metadata": {
        "id": "UG66bkD5NaqE"
      },
      "source": [
        "from google.colab import drive\n"
      ],
      "execution_count": null,
      "outputs": []
    },
    {
      "cell_type": "code",
      "metadata": {
        "id": "a7RuQ_pa42Fc",
        "outputId": "16dfa14b-aa32-4427-b49a-091e493c8f94",
        "colab": {
          "base_uri": "https://localhost:8080/",
          "height": 34
        }
      },
      "source": [
        "drive.mount('/content/gdrive')"
      ],
      "execution_count": null,
      "outputs": [
        {
          "output_type": "stream",
          "text": [
            "Mounted at /content/gdrive\n"
          ],
          "name": "stdout"
        }
      ]
    },
    {
      "cell_type": "code",
      "metadata": {
        "id": "wWBtGyUV5Deg",
        "outputId": "2afe55fb-38ac-4f2c-88f0-89300ee6c3b2",
        "colab": {
          "base_uri": "https://localhost:8080/",
          "height": 72
        }
      },
      "source": [
        "import os\n",
        "import matplotlib.pyplot as plt\n",
        "import pandas as pd\n",
        "import seaborn as sns\n",
        "import numpy as np"
      ],
      "execution_count": null,
      "outputs": [
        {
          "output_type": "stream",
          "text": [
            "/usr/local/lib/python3.6/dist-packages/statsmodels/tools/_testing.py:19: FutureWarning: pandas.util.testing is deprecated. Use the functions in the public API at pandas.testing instead.\n",
            "  import pandas.util.testing as tm\n"
          ],
          "name": "stderr"
        }
      ]
    },
    {
      "cell_type": "code",
      "metadata": {
        "id": "FDWRFBhj5VTc"
      },
      "source": [
        "os.chdir('/content/gdrive/My Drive')"
      ],
      "execution_count": null,
      "outputs": []
    },
    {
      "cell_type": "code",
      "metadata": {
        "id": "Rfy5Zq-L5cs8",
        "outputId": "31c943f0-07f9-42de-b724-fe541f407ebb",
        "colab": {
          "base_uri": "https://localhost:8080/",
          "height": 212
        }
      },
      "source": [
        "os.listdir()"
      ],
      "execution_count": null,
      "outputs": [
        {
          "output_type": "execute_result",
          "data": {
            "text/plain": [
              "['master.csv',\n",
              " 'DistribuicaoCloroquinaOseltamivir.xlsx',\n",
              " 'Colab Notebooks',\n",
              " 'modelo_de_relatorio.pdf',\n",
              " '__MACOSX',\n",
              " 'relatorios',\n",
              " 'Modulo_3.notebooks',\n",
              " 'medicamento.txt',\n",
              " 'Lista de exercícios 7 - Variáveis - Operadores.pdf',\n",
              " 'controle_da_empresa.xlsx',\n",
              " 'Pepbase.csv']"
            ]
          },
          "metadata": {
            "tags": []
          },
          "execution_count": 5
        }
      ]
    },
    {
      "cell_type": "code",
      "metadata": {
        "id": "C9AhdfC65elZ",
        "outputId": "7da69427-7058-4f96-cfb2-d5efc3756ec3",
        "colab": {
          "base_uri": "https://localhost:8080/",
          "height": 72
        }
      },
      "source": [
        "pep = pd.read_csv('/content/gdrive/My Drive/Pepbase.csv', None)"
      ],
      "execution_count": null,
      "outputs": [
        {
          "output_type": "stream",
          "text": [
            "/usr/local/lib/python3.6/dist-packages/ipykernel_launcher.py:1: ParserWarning: Falling back to the 'python' engine because the 'c' engine does not support sep=None with delim_whitespace=False; you can avoid this warning by specifying engine='python'.\n",
            "  \"\"\"Entry point for launching an IPython kernel.\n"
          ],
          "name": "stderr"
        }
      ]
    },
    {
      "cell_type": "code",
      "metadata": {
        "id": "_ynuQrys5n1m",
        "outputId": "23e22098-7d0c-455e-f94b-23a99ebd9fb7",
        "colab": {
          "base_uri": "https://localhost:8080/",
          "height": 297
        }
      },
      "source": [
        "pep.head()"
      ],
      "execution_count": null,
      "outputs": [
        {
          "output_type": "execute_result",
          "data": {
            "text/html": [
              "<div>\n",
              "<style scoped>\n",
              "    .dataframe tbody tr th:only-of-type {\n",
              "        vertical-align: middle;\n",
              "    }\n",
              "\n",
              "    .dataframe tbody tr th {\n",
              "        vertical-align: top;\n",
              "    }\n",
              "\n",
              "    .dataframe thead th {\n",
              "        text-align: right;\n",
              "    }\n",
              "</style>\n",
              "<table border=\"1\" class=\"dataframe\">\n",
              "  <thead>\n",
              "    <tr style=\"text-align: right;\">\n",
              "      <th></th>\n",
              "      <th>Unnamed: 0</th>\n",
              "      <th>affinity_measure</th>\n",
              "      <th>affinity_value</th>\n",
              "      <th>ligand_chain</th>\n",
              "      <th>ligand_id</th>\n",
              "      <th>ligand_resid</th>\n",
              "      <th>ligand_smiles</th>\n",
              "      <th>pdb_id</th>\n",
              "      <th>type</th>\n",
              "      <th>apo95_pdb_id</th>\n",
              "    </tr>\n",
              "  </thead>\n",
              "  <tbody>\n",
              "    <tr>\n",
              "      <th>0</th>\n",
              "      <td>0</td>\n",
              "      <td>Ki</td>\n",
              "      <td>4560.0</td>\n",
              "      <td>C</td>\n",
              "      <td>GLY TYR GLU ASN PRO THR TYR LYS PHE PHE</td>\n",
              "      <td>3</td>\n",
              "      <td>O=C(NC(C(=O)NC(C(=O)NC(C(=O)NC(C=O)Cc1ccccc1)C...</td>\n",
              "      <td>1AQC</td>\n",
              "      <td>ligand</td>\n",
              "      <td>NaN</td>\n",
              "    </tr>\n",
              "    <tr>\n",
              "      <th>1</th>\n",
              "      <td>1</td>\n",
              "      <td>Kd</td>\n",
              "      <td>90000.0</td>\n",
              "      <td>P</td>\n",
              "      <td>PRO PRO PRO PRO PRO PRO PRO PRO PRO PRO</td>\n",
              "      <td>1</td>\n",
              "      <td>O=C([O-])C1N(C(=O)C2N(C(=O)C3N(C(=O)C4N(C(=O)C...</td>\n",
              "      <td>1AWI</td>\n",
              "      <td>ligand</td>\n",
              "      <td>NaN</td>\n",
              "    </tr>\n",
              "    <tr>\n",
              "      <th>2</th>\n",
              "      <td>2</td>\n",
              "      <td>Kd</td>\n",
              "      <td>90000.0</td>\n",
              "      <td>P</td>\n",
              "      <td>PRO PRO PRO PRO PRO PRO PRO PRO PRO PRO</td>\n",
              "      <td>1</td>\n",
              "      <td>O=C([O-])C1N(C(=O)C2N(C(=O)C3N(C(=O)C4N(C(=O)C...</td>\n",
              "      <td>1AWI</td>\n",
              "      <td>ligand</td>\n",
              "      <td>4X25</td>\n",
              "    </tr>\n",
              "    <tr>\n",
              "      <th>3</th>\n",
              "      <td>3</td>\n",
              "      <td>Kd</td>\n",
              "      <td>1900.0</td>\n",
              "      <td>B</td>\n",
              "      <td>PRO PRO PRO ALA LEU PRO PRO LYS LYS ARG</td>\n",
              "      <td>1</td>\n",
              "      <td>O=C(NC(CCCC[N+H3])[C-H2])C(NC(=O)C1N(C(=O)C2N(...</td>\n",
              "      <td>1CKA</td>\n",
              "      <td>ligand</td>\n",
              "      <td>NaN</td>\n",
              "    </tr>\n",
              "    <tr>\n",
              "      <th>4</th>\n",
              "      <td>4</td>\n",
              "      <td>Kd</td>\n",
              "      <td>25.0</td>\n",
              "      <td>P</td>\n",
              "      <td>SER HIS PHE ASN GLU TYR GLU</td>\n",
              "      <td>1</td>\n",
              "      <td>O=C([O-])C(NC(=O)C(NC(=O)C(NC(=O)C(NC(=O)C(NC(...</td>\n",
              "      <td>1E4W</td>\n",
              "      <td>ligand</td>\n",
              "      <td>NaN</td>\n",
              "    </tr>\n",
              "  </tbody>\n",
              "</table>\n",
              "</div>"
            ],
            "text/plain": [
              "   Unnamed: 0 affinity_measure  affinity_value  ... pdb_id    type  apo95_pdb_id\n",
              "0           0               Ki          4560.0  ...   1AQC  ligand           NaN\n",
              "1           1               Kd         90000.0  ...   1AWI  ligand           NaN\n",
              "2           2               Kd         90000.0  ...   1AWI  ligand          4X25\n",
              "3           3               Kd          1900.0  ...   1CKA  ligand           NaN\n",
              "4           4               Kd            25.0  ...   1E4W  ligand           NaN\n",
              "\n",
              "[5 rows x 10 columns]"
            ]
          },
          "metadata": {
            "tags": []
          },
          "execution_count": 7
        }
      ]
    },
    {
      "cell_type": "code",
      "metadata": {
        "id": "PDIG7OgxADfe",
        "outputId": "6479b96e-afb4-47e4-9975-09903cfc5872",
        "colab": {
          "base_uri": "https://localhost:8080/",
          "height": 318
        }
      },
      "source": [
        "pep.info()"
      ],
      "execution_count": null,
      "outputs": [
        {
          "output_type": "stream",
          "text": [
            "<class 'pandas.core.frame.DataFrame'>\n",
            "RangeIndex: 189 entries, 0 to 188\n",
            "Data columns (total 10 columns):\n",
            " #   Column            Non-Null Count  Dtype  \n",
            "---  ------            --------------  -----  \n",
            " 0   Unnamed: 0        189 non-null    int64  \n",
            " 1   affinity_measure  189 non-null    object \n",
            " 2   affinity_value    189 non-null    float64\n",
            " 3   ligand_chain      189 non-null    object \n",
            " 4   ligand_id         189 non-null    object \n",
            " 5   ligand_resid      189 non-null    int64  \n",
            " 6   ligand_smiles     180 non-null    object \n",
            " 7   pdb_id            189 non-null    object \n",
            " 8   type              189 non-null    object \n",
            " 9   apo95_pdb_id      66 non-null     object \n",
            "dtypes: float64(1), int64(2), object(7)\n",
            "memory usage: 14.9+ KB\n"
          ],
          "name": "stdout"
        }
      ]
    },
    {
      "cell_type": "code",
      "metadata": {
        "id": "Bb34vAiF6zgk"
      },
      "source": [
        "afinidade = pep['affinity_measure'].value_counts()"
      ],
      "execution_count": null,
      "outputs": []
    },
    {
      "cell_type": "code",
      "metadata": {
        "id": "gv7yQihV8hon",
        "outputId": "e86b2af7-8983-4cfa-8e1c-57bcb1811f4f",
        "colab": {
          "base_uri": "https://localhost:8080/",
          "height": 275
        }
      },
      "source": [
        "colors_bar = ['k', 'c', 'g']\n",
        "plt.figure(figsize=(8,4))\n",
        "afinidade.plot(kind='bar', color = colors_bar);\n",
        "\n"
      ],
      "execution_count": null,
      "outputs": [
        {
          "output_type": "display_data",
          "data": {
            "image/png": "[encoded data removed]",
            "text/plain": [
              "<Figure size 576x288 with 1 Axes>"
            ]
          },
          "metadata": {
            "tags": [],
            "needs_background": "light"
          }
        }
      ]
    },
    {
      "cell_type": "code",
      "metadata": {
        "id": "JD-pmQGFIOjl"
      },
      "source": [
        "afinidade = dict(pep['affinity_measure'].value_counts())"
      ],
      "execution_count": null,
      "outputs": []
    },
    {
      "cell_type": "code",
      "metadata": {
        "id": "fuExA330Fs3T"
      },
      "source": [
        "!pip install pywaffle\n",
        "\n",
        "\n"
      ],
      "execution_count": null,
      "outputs": []
    },
    {
      "cell_type": "code",
      "metadata": {
        "id": "XKYEK8A2HkxN",
        "outputId": "89c3f883-fe40-438a-e677-89ea8d99a8c9",
        "colab": {
          "base_uri": "https://localhost:8080/",
          "height": 242
        }
      },
      "source": [
        "from pywaffle import Waffle\n",
        "\n",
        "\n",
        "\n",
        "fig = plt.figure(figsize=(10,6),\n",
        "                FigureClass=Waffle,\n",
        "                rows=5,\n",
        "                columns=15,\n",
        "                icons='bolt',\n",
        "                icon_size=30,\n",
        "                values=afinidade, \n",
        "                legend={'loc': 'upper left',\n",
        "                        'bbox_to_anchor': (1.0, 1)}\n",
        "               )\n",
        "\n",
        "\n",
        "\n",
        "plt.show();"
      ],
      "execution_count": null,
      "outputs": [
        {
          "output_type": "display_data",
          "data": {
            "image/png": "[encoded data removed]",
            "text/plain": [
              "<Waffle size 720x432 with 1 Axes>"
            ]
          },
          "metadata": {
            "tags": [],
            "needs_background": "light"
          }
        }
      ]
    },
    {
      "cell_type": "code",
      "metadata": {
        "id": "OwfZxkKniAQP",
        "outputId": "50506f69-0089-43e5-f5d3-00bc2058f2e1",
        "colab": {
          "base_uri": "https://localhost:8080/",
          "height": 483
        }
      },
      "source": [
        "\n",
        "base = (pep.groupby('affinity_value')['affinity_measure']).sum()\n",
        "plt.figure(figsize=(10,8))\n",
        "plt.hist(base,color='k', bins = 10);"
      ],
      "execution_count": null,
      "outputs": [
        {
          "output_type": "display_data",
          "data": {
            "image/png": "[encoded data removed]",
            "text/plain": [
              "<Figure size 720x576 with 1 Axes>"
            ]
          },
          "metadata": {
            "tags": [],
            "needs_background": "light"
          }
        }
      ]
    },
    {
      "cell_type": "code",
      "metadata": {
        "id": "7wijnJ5UpAVU"
      },
      "source": [
        "ligação = pep.groupby('pdb_id')['ligand_id'].sum()\n"
      ],
      "execution_count": null,
      "outputs": []
    },
    {
      "cell_type": "code",
      "metadata": {
        "id": "_kGLkWDWp9G4",
        "outputId": "cb90b00f-f226-4e40-d961-571b05bad6ef",
        "colab": {
          "base_uri": "https://localhost:8080/",
          "height": 247
        }
      },
      "source": [
        "ligação"
      ],
      "execution_count": null,
      "outputs": [
        {
          "output_type": "execute_result",
          "data": {
            "text/plain": [
              "pdb_id\n",
              "1AQC              GLY TYR GLU ASN PRO THR TYR LYS PHE PHE\n",
              "1AWI    PRO PRO PRO PRO PRO PRO PRO PRO PRO PROPRO PRO...\n",
              "1CKA              PRO PRO PRO ALA LEU PRO PRO LYS LYS ARG\n",
              "1E4W                          SER HIS PHE ASN GLU TYR GLU\n",
              "1E4X                          VAL VAL SER HIS PHE ASN ASP\n",
              "                              ...                        \n",
              "6BJ3                  ILE PRO LEU THR GLU GLU ALA GLU LEU\n",
              "6CCU                       PRO HIS ARG VALPRO HIS ARG VAL\n",
              "6CDG                              PRO GLY LEU TRP LYS SER\n",
              "6GHJ                               PHE ALA GLNPHE ALA GLN\n",
              "6HPG    GLY SER LYS MET GLU GLU VAL ASPGLY SER LYS MET...\n",
              "Name: ligand_id, Length: 123, dtype: object"
            ]
          },
          "metadata": {
            "tags": []
          },
          "execution_count": 91
        }
      ]
    },
    {
      "cell_type": "code",
      "metadata": {
        "id": "HjOs-X9YqqEn"
      },
      "source": [
        ""
      ],
      "execution_count": null,
      "outputs": []
    }
  ]
}