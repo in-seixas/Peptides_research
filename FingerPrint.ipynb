{
  "nbformat": 4,
  "nbformat_minor": 0,
  "metadata": {
    "colab": {
      "name": "FingerPrint",
      "provenance": [],
      "authorship_tag": "ABX9TyMluzmajj2mwwIXzfcX+o/0",
      "include_colab_link": true
    },
    "kernelspec": {
      "name": "python3",
      "display_name": "Python 3"
    }
  },
  "cells": [
    {
      "cell_type": "markdown",
      "metadata": {
        "id": "view-in-github",
        "colab_type": "text"
      },
      "source": [
        "<a href=\"https://colab.research.google.com/github/in-seixas/in-seixas_data_science-/blob/master/FingerPrint.ipynb\" target=\"_parent\"><img src=\"https://colab.research.google.com/assets/colab-badge.svg\" alt=\"Open In Colab\"/></a>"
      ]
    },
    {
      "cell_type": "code",
      "metadata": {
        "id": "aoKQV7ZVSeh-"
      },
      "source": [
        "import xml.etree.ElementTree as ET\n",
        "from xml.dom import minidom\n",
        "import numpy as np\n",
        "import seaborn as sb\n",
        "import os\n",
        "from glob import glob\n",
        "import matplotlib.pyplot as plt"
      ],
      "execution_count": 1,
      "outputs": []
    },
    {
      "cell_type": "code",
      "metadata": {
        "id": "LCPoUtzsSjzY"
      },
      "source": [
        "#Função que abre os arquivos XML e realiza a busca pelas interações para cada ligante\n",
        "def plip(diretorio):\n",
        "    tree = ET.parse(diretorio)\n",
        "    root = tree.getroot()         \n",
        "    fingerprint = set()\n",
        "    for inter_type in ['hydrophobic_interaction','hydrogen_bond','water_bridge','pi_stack']:\n",
        "        for inter in root.findall('.//' + inter_type):\n",
        "            resnr = inter.find('./resnr').text\n",
        "            reschain = inter.find('./reschain').text\n",
        "            typ = inter.tag\n",
        "            tup = (resnr, reschain, typ)\n",
        "            fingerprint.add(tup)\n",
        "    return fingerprint\n",
        "    "
      ],
      "execution_count": 2,
      "outputs": []
    },
    {
      "cell_type": "code",
      "metadata": {
        "id": "MkD_j-7GSq-r"
      },
      "source": [
        "caminho = glob('/home/gessualdo/gessualdo/resultados/teste2/*/report.xml')"
      ],
      "execution_count": 4,
      "outputs": []
    },
    {
      "cell_type": "code",
      "metadata": {
        "colab": {
          "base_uri": "https://localhost:8080/"
        },
        "id": "p1c2VTiESxbG",
        "outputId": "3cdd933a-d7f9-417f-8812-16a463b44c34"
      },
      "source": [
        "caminho"
      ],
      "execution_count": 5,
      "outputs": [
        {
          "output_type": "execute_result",
          "data": {
            "text/plain": [
              "[]"
            ]
          },
          "metadata": {
            "tags": []
          },
          "execution_count": 5
        }
      ]
    },
    {
      "cell_type": "code",
      "metadata": {
        "id": "-sownR9aS0hb"
      },
      "source": [
        "def tanimoto(a, b):\n",
        "    tanimoto = len((a).intersection(b))/len((a).union(b))\n",
        "    return (tanimoto)\n",
        "\n",
        "rotulos = []\n",
        "matriz = []\n",
        "cont_1 = 0\n",
        "for report1 in caminho:\n",
        "    fp1 = plip(report1)\n",
        "    cont_1 = cont_1 +1\n",
        "    rotulos.append(report1.split('/')[6])\n",
        "    matriz.append([])\n",
        "    cont_2 = 0\n",
        "    for report2 in caminho:    \n",
        "        fp2 = plip(report2)\n",
        "        cont_2 = cont_2 +1\n",
        "        tan = tanimoto(fp1,fp2)\n",
        "        matriz[-1].append(tan)\n",
        "        "
      ],
      "execution_count": 6,
      "outputs": []
    },
    {
      "cell_type": "code",
      "metadata": {
        "id": "EOHBZShfS9Fk"
      },
      "source": [
        "figure, (picture) = plt.subplots(nrows=1, figsize=(75, 27))\n",
        "picture.imshow(matriz)\n",
        "print(rotulos[10], rotulos[40])"
      ],
      "execution_count": null,
      "outputs": []
    },
    {
      "cell_type": "code",
      "metadata": {
        "id": "ErTO8YkBTAd-"
      },
      "source": [
        ""
      ],
      "execution_count": null,
      "outputs": []
    }
  ]
}