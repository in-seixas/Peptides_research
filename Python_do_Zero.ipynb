{
  "nbformat": 4,
  "nbformat_minor": 0,
  "metadata": {
    "colab": {
      "name": "Python do Zero-Sigmoidal",
      "provenance": [],
      "authorship_tag": "ABX9TyODD0lEWXOXVKHNNi8pYIiI",
      "include_colab_link": true
    },
    "kernelspec": {
      "name": "python3",
      "display_name": "Python 3"
    }
  },
  "cells": [
    {
      "cell_type": "markdown",
      "metadata": {
        "id": "view-in-github",
        "colab_type": "text"
      },
      "source": [
        "<a href=\"https://colab.research.google.com/github/in-seixas/in-seixas_data_science-/blob/master/Python_do_Zero.ipynb\" target=\"_parent\"><img src=\"https://colab.research.google.com/assets/colab-badge.svg\" alt=\"Open In Colab\"/></a>"
      ]
    },
    {
      "cell_type": "markdown",
      "metadata": {
        "id": "1IkfFy8TsC9D",
        "colab_type": "text"
      },
      "source": [
        "<img src= 'https://raw.githubusercontent.com/in-seixas/in-seixas_data_science-/master/banner.png'>\n",
        "\n",
        "#**Aula 1**\n",
        "\n",
        "***Este notebook é referente a aula 1***\n",
        "\n",
        "  *Analisando dados da empresa*\n",
        "\n",
        "---\n",
        "\n",
        "\n",
        "\n",
        "\n"
      ]
    },
    {
      "cell_type": "code",
      "metadata": {
        "id": "xrhXAvgeqrsh",
        "colab_type": "code",
        "colab": {}
      },
      "source": [
        ""
      ],
      "execution_count": null,
      "outputs": []
    }
  ]
}